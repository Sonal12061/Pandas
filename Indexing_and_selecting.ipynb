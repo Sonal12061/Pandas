{
  "nbformat": 4,
  "nbformat_minor": 0,
  "metadata": {
    "colab": {
      "provenance": [],
      "collapsed_sections": [
        "M_v80M7bryD2",
        "HtIdnKvpz3cf"
      ],
      "toc_visible": true
    },
    "kernelspec": {
      "name": "python3",
      "display_name": "Python 3"
    },
    "language_info": {
      "name": "python"
    }
  },
  "cells": [
    {
      "cell_type": "code",
      "source": [
        "import pandas as pd\n",
        "import numpy as np"
      ],
      "metadata": {
        "id": "OiTZzIyTs7Ku"
      },
      "execution_count": 2,
      "outputs": []
    },
    {
      "cell_type": "markdown",
      "source": [
        "# **Different choices for indexing**\n",
        "There are three types of indexing options available in pandas"
      ],
      "metadata": {
        "id": "OA7mKyows_m2"
      }
    },
    {
      "cell_type": "markdown",
      "source": [
        "## `.loc[]`\n",
        "\n",
        "\n",
        "*   It is  primarily label based, but may also be used with a boolean array. For example in pandas, you might select rows by their labels (`df.loc['row_label']`), but you can also filter rows based on a boolean array (e.g., `df[boolean_array]`) where only the True values are selected.\n",
        "\n",
        "\n",
        "\n",
        "\n",
        "\n",
        "\n",
        "\n",
        "\n",
        "\n"
      ],
      "metadata": {
        "id": "M_v80M7bryD2"
      }
    },
    {
      "cell_type": "code",
      "source": [
        "# Sample DataFrame\n",
        "data = {'A': [10, 20, 30, 40, 50, 60, 70, 80],\n",
        "        'B': [15, 25, 35, 45, 55, 65, 75, 85]}\n",
        "\n",
        "df = pd.DataFrame(data, index=[0, 1, 2, 3, 4, 5, 6, 7])\n",
        "\n",
        "# 1. Access by an integer (row label 5)\n",
        "print(\"Access by integer (row label 5):\")\n",
        "print(df.loc[5])\n",
        "\n",
        "# 2. Access by a list or array of integers [4, 3, 0]\n",
        "print(\"\\nAccess by a list of integers [4, 3, 0]:\")\n",
        "print(df.loc[[4, 3, 0]])\n",
        "\n",
        "# 3. Access by a slice object with ints 1:7 (includes 1 and 6, excludes 7)\n",
        "print(\"\\nAccess by a slice 1:7:\")\n",
        "print(df.loc[1:7])\n",
        "\n",
        "# 4. Access by a boolean array (e.g., filter values where column 'A' > 40)\n",
        "bool_array = df['A'] > 40\n",
        "print(\"\\nAccess by a boolean array (A > 40):\")\n",
        "print(df.loc[bool_array])\n",
        "\n",
        "# 5. Access by a callable function\n",
        "# The function returns the rows where column 'B' is greater than 60\n",
        "print(\"\\nAccess by a callable function (B > 60):\")\n",
        "print(df.loc[lambda x: x['B'] > 60])\n"
      ],
      "metadata": {
        "id": "3xh-QreqU4_L",
        "colab": {
          "base_uri": "https://localhost:8080/"
        },
        "outputId": "b1ed8ca3-49d5-4be7-d99c-42711b7a3581"
      },
      "execution_count": null,
      "outputs": [
        {
          "output_type": "stream",
          "name": "stdout",
          "text": [
            "Access by integer (row label 5):\n",
            "A    60\n",
            "B    65\n",
            "Name: 5, dtype: int64\n",
            "\n",
            "Access by a list of integers [4, 3, 0]:\n",
            "    A   B\n",
            "4  50  55\n",
            "3  40  45\n",
            "0  10  15\n",
            "\n",
            "Access by a slice 1:7:\n",
            "    A   B\n",
            "1  20  25\n",
            "2  30  35\n",
            "3  40  45\n",
            "4  50  55\n",
            "5  60  65\n",
            "6  70  75\n",
            "7  80  85\n",
            "\n",
            "Access by a boolean array (A > 40):\n",
            "    A   B\n",
            "4  50  55\n",
            "5  60  65\n",
            "6  70  75\n",
            "7  80  85\n",
            "\n",
            "Access by a callable function (B > 60):\n",
            "    A   B\n",
            "5  60  65\n",
            "6  70  75\n",
            "7  80  85\n"
          ]
        }
      ]
    },
    {
      "cell_type": "code",
      "source": [
        "# 'x' is a boolean Series that indicates whether both conditions are True for each row.\n",
        "# For each row in 'df', it checks if the value in column 'A' is greater than 40\n",
        "# and the value in column 'B' is greater than 55.\n",
        "x = (df['A'] > 40) & (df['B'] > 55)\n",
        "\n",
        "# Print the type of 'x', which should be a pandas Series.\n",
        "print(f\"The type of x is {type(x)}\")\n",
        "\n",
        "# Print the boolean Series 'x', showing True/False for each row.\n",
        "print(x)\n",
        "\n",
        "# Use .loc to filter and display rows where the conditions in 'x' are True.\n",
        "print(df.loc[x])\n"
      ],
      "metadata": {
        "colab": {
          "base_uri": "https://localhost:8080/"
        },
        "id": "HeNACxY7vGrN",
        "outputId": "1fc58384-294c-41d4-9a36-d345bf08c6e8"
      },
      "execution_count": null,
      "outputs": [
        {
          "output_type": "stream",
          "name": "stdout",
          "text": [
            "The type of x is <class 'pandas.core.series.Series'>\n",
            "0    False\n",
            "1    False\n",
            "2    False\n",
            "3    False\n",
            "4    False\n",
            "5     True\n",
            "6     True\n",
            "7     True\n",
            "dtype: bool\n",
            "    A   B\n",
            "5  60  65\n",
            "6  70  75\n",
            "7  80  85\n"
          ]
        }
      ]
    },
    {
      "cell_type": "markdown",
      "source": [
        "## `.iloc[]`\n",
        "\n",
        "\n",
        "*   It is primarily integer position based (from 0 to length-1 of the axis), but may also be used with a boolean array."
      ],
      "metadata": {
        "id": "HtIdnKvpz3cf"
      }
    },
    {
      "cell_type": "code",
      "source": [
        "# Define a callable function to filter rows based on a condition\n",
        "def filter_func(df):\n",
        "    return (df['A'] > 30).values"
      ],
      "metadata": {
        "id": "SO1SENU_08i1"
      },
      "execution_count": null,
      "outputs": []
    },
    {
      "cell_type": "code",
      "source": [
        "# Create a sample DataFrame\n",
        "data = {\n",
        "    'A': [10, 20, 30, 40, 50, 60, 70, 80],\n",
        "    'B': [5, 15, 25, 35, 45, 55, 65, 75],\n",
        "    'C': [1, 2, 3, 4, 5, 6, 7, 8]\n",
        "}\n",
        "df = pd.DataFrame(data)\n",
        "\n",
        "# Accessing the 5th row (index 5)\n",
        "print(f\"Accessing the 5th row (index 5):\\n{df.iloc[5]}\")\n",
        "\n",
        "# Accessing rows at indices 4, 3, and 0\n",
        "print(f\"Accessing rows at indices 4, 3, and 0:\\n{df.iloc[[4, 3, 0]]}\")\n",
        "\n",
        "# Accessing rows from index 1 to 6 (7 is exclusive)\n",
        "print(f\"Accessing rows from index 1 to 6 (7 is exclusive):\\n{df.iloc[1:7]}\")\n",
        "\n",
        "# Create a boolean array where values in column 'A' are greater than 25\n",
        "bool_array = df['A'] > 25\n",
        "print(f\"To access value using boolean array:\\n{df.iloc[bool_array.values]}\")  # Use .values to convert to a boolean array\n",
        "\n",
        "# Using the function to get rows where column 'A' is greater than 30\n",
        "print(f\"Using function to access the values:\\n{df.iloc[filter_func(df)]}\")\n",
        "\n",
        "\n",
        "# Accessing the 3rd row and 2nd column\n",
        "print(f\"Accessing the value of the value at row index 3 and column index 2: {df.iloc[(3, 2)]}\")  # Returns the value at row index 3 and column index 2\n"
      ],
      "metadata": {
        "colab": {
          "base_uri": "https://localhost:8080/"
        },
        "id": "eK11jfYpya0U",
        "outputId": "ada36504-4e4a-458e-820a-2f709af0eb91"
      },
      "execution_count": 34,
      "outputs": [
        {
          "output_type": "stream",
          "name": "stdout",
          "text": [
            "Accessing the 5th row (index 5):\n",
            "A    60\n",
            "B    55\n",
            "C     6\n",
            "Name: 5, dtype: int64\n",
            "Accessing rows at indices 4, 3, and 0:\n",
            "    A   B  C\n",
            "4  50  45  5\n",
            "3  40  35  4\n",
            "0  10   5  1\n",
            "Accessing rows from index 1 to 6 (7 is exclusive):\n",
            "    A   B  C\n",
            "1  20  15  2\n",
            "2  30  25  3\n",
            "3  40  35  4\n",
            "4  50  45  5\n",
            "5  60  55  6\n",
            "6  70  65  7\n",
            "To access value using boolean array:\n",
            "    A   B  C\n",
            "2  30  25  3\n",
            "3  40  35  4\n",
            "4  50  45  5\n",
            "5  60  55  6\n",
            "6  70  65  7\n",
            "7  80  75  8\n",
            "Using function to access the values:\n",
            "    A   B  C\n",
            "3  40  35  4\n",
            "4  50  45  5\n",
            "5  60  55  6\n",
            "6  70  65  7\n",
            "7  80  75  8\n",
            "Accessing the value of the value at row index 3 and column index 2: 4\n"
          ]
        }
      ]
    },
    {
      "cell_type": "markdown",
      "source": [
        "### Differentiate between `.loc[]` and `.iloc[]`"
      ],
      "metadata": {
        "id": "GZgXdA8wEVxu"
      }
    },
    {
      "cell_type": "code",
      "source": [
        "import pandas as pd\n",
        "\n",
        "# Sample DataFrame\n",
        "data = {\n",
        "    'A': [10, 20, 30],\n",
        "    'B': [40, 50, 60],\n",
        "    'C': [70, 80, 90]\n",
        "}\n",
        "df = pd.DataFrame(data, index=['row1', 'row2', 'row3'])\n",
        "\n",
        "# Using .loc[]\n",
        "print(f\"This is the value of df.loc['row1', 'A'] : {df.loc['row1', 'A']}\")  #\n",
        "print(f\"This is the value of df.loc['row1':'row2', 'A':'B']:\\n{df.loc['row1':'row2', 'A':'B']}\")\n",
        "# Using .iloc[]\n",
        "print(f\"This is the value of df.iloc[0,0]: {df.iloc[0, 0]}\")\n",
        "print(f\"This is the value of df.iloc[0:2, 0:2]:\\n{df.iloc[0:2, 0:2]}\")"
      ],
      "metadata": {
        "id": "RcFoshZ21bG2",
        "colab": {
          "base_uri": "https://localhost:8080/"
        },
        "outputId": "8ff83817-3ebe-490f-df70-9e1de9ccdaa9"
      },
      "execution_count": 4,
      "outputs": [
        {
          "output_type": "stream",
          "name": "stdout",
          "text": [
            "This is the value of df.loc['row1', 'A'] : 10\n",
            "This is the value of df.loc['row1':'row2', 'A':'B']:\n",
            "       A   B\n",
            "row1  10  40\n",
            "row2  20  50\n",
            "This is the value of df.iloc[0,0] : 10\n",
            "This is the value of df.iloc[0:2, 0:2]:\n",
            "       A   B\n",
            "row1  10  40\n",
            "row2  20  50\n"
          ]
        }
      ]
    },
    {
      "cell_type": "markdown",
      "source": [
        "##  `[]`\n",
        "\n",
        "\n",
        "1.  The primary function of indexing is selecting out lower-dimensional slices.\n",
        "2.  You can pass a list of columns to `[]` to select columns in that order.\n",
        "3.  If a column is not contained in the DataFrame, an exception will be raised\n",
        "4.  Multiple columns can also be set in this manner\n",
        "\n"
      ],
      "metadata": {
        "id": "27cHyn9rBND5"
      }
    },
    {
      "cell_type": "code",
      "source": [
        "dates = pd.date_range('1/1/2000', periods=8)\n",
        "\n",
        "df = pd.DataFrame(np.random.randn(8, 4),\n",
        "                  index=dates, columns=['A', 'B', 'C', 'D'])\n",
        "df.head(6)"
      ],
      "metadata": {
        "colab": {
          "base_uri": "https://localhost:8080/",
          "height": 238
        },
        "id": "JPATNPv3BiVr",
        "outputId": "552dd397-0f39-438f-fb69-ec7a45036429"
      },
      "execution_count": 16,
      "outputs": [
        {
          "output_type": "execute_result",
          "data": {
            "text/plain": [
              "                   A         B         C         D\n",
              "2000-01-01  1.217277  1.842994  0.108062  0.947492\n",
              "2000-01-02  1.836212 -0.453953 -1.130149 -0.799224\n",
              "2000-01-03 -2.266578 -0.841693  2.063475  0.646885\n",
              "2000-01-04  1.623422 -0.260949 -1.449851  0.176363\n",
              "2000-01-05  0.878080  0.356000  0.177719 -0.134578\n",
              "2000-01-06  0.197345  1.799294  2.756316 -1.289205"
            ],
            "text/html": [
              "\n",
              "  <div id=\"df-10330394-2c32-422e-9ba3-29abc29d1e18\" class=\"colab-df-container\">\n",
              "    <div>\n",
              "<style scoped>\n",
              "    .dataframe tbody tr th:only-of-type {\n",
              "        vertical-align: middle;\n",
              "    }\n",
              "\n",
              "    .dataframe tbody tr th {\n",
              "        vertical-align: top;\n",
              "    }\n",
              "\n",
              "    .dataframe thead th {\n",
              "        text-align: right;\n",
              "    }\n",
              "</style>\n",
              "<table border=\"1\" class=\"dataframe\">\n",
              "  <thead>\n",
              "    <tr style=\"text-align: right;\">\n",
              "      <th></th>\n",
              "      <th>A</th>\n",
              "      <th>B</th>\n",
              "      <th>C</th>\n",
              "      <th>D</th>\n",
              "    </tr>\n",
              "  </thead>\n",
              "  <tbody>\n",
              "    <tr>\n",
              "      <th>2000-01-01</th>\n",
              "      <td>1.217277</td>\n",
              "      <td>1.842994</td>\n",
              "      <td>0.108062</td>\n",
              "      <td>0.947492</td>\n",
              "    </tr>\n",
              "    <tr>\n",
              "      <th>2000-01-02</th>\n",
              "      <td>1.836212</td>\n",
              "      <td>-0.453953</td>\n",
              "      <td>-1.130149</td>\n",
              "      <td>-0.799224</td>\n",
              "    </tr>\n",
              "    <tr>\n",
              "      <th>2000-01-03</th>\n",
              "      <td>-2.266578</td>\n",
              "      <td>-0.841693</td>\n",
              "      <td>2.063475</td>\n",
              "      <td>0.646885</td>\n",
              "    </tr>\n",
              "    <tr>\n",
              "      <th>2000-01-04</th>\n",
              "      <td>1.623422</td>\n",
              "      <td>-0.260949</td>\n",
              "      <td>-1.449851</td>\n",
              "      <td>0.176363</td>\n",
              "    </tr>\n",
              "    <tr>\n",
              "      <th>2000-01-05</th>\n",
              "      <td>0.878080</td>\n",
              "      <td>0.356000</td>\n",
              "      <td>0.177719</td>\n",
              "      <td>-0.134578</td>\n",
              "    </tr>\n",
              "    <tr>\n",
              "      <th>2000-01-06</th>\n",
              "      <td>0.197345</td>\n",
              "      <td>1.799294</td>\n",
              "      <td>2.756316</td>\n",
              "      <td>-1.289205</td>\n",
              "    </tr>\n",
              "  </tbody>\n",
              "</table>\n",
              "</div>\n",
              "    <div class=\"colab-df-buttons\">\n",
              "\n",
              "  <div class=\"colab-df-container\">\n",
              "    <button class=\"colab-df-convert\" onclick=\"convertToInteractive('df-10330394-2c32-422e-9ba3-29abc29d1e18')\"\n",
              "            title=\"Convert this dataframe to an interactive table.\"\n",
              "            style=\"display:none;\">\n",
              "\n",
              "  <svg xmlns=\"http://www.w3.org/2000/svg\" height=\"24px\" viewBox=\"0 -960 960 960\">\n",
              "    <path d=\"M120-120v-720h720v720H120Zm60-500h600v-160H180v160Zm220 220h160v-160H400v160Zm0 220h160v-160H400v160ZM180-400h160v-160H180v160Zm440 0h160v-160H620v160ZM180-180h160v-160H180v160Zm440 0h160v-160H620v160Z\"/>\n",
              "  </svg>\n",
              "    </button>\n",
              "\n",
              "  <style>\n",
              "    .colab-df-container {\n",
              "      display:flex;\n",
              "      gap: 12px;\n",
              "    }\n",
              "\n",
              "    .colab-df-convert {\n",
              "      background-color: #E8F0FE;\n",
              "      border: none;\n",
              "      border-radius: 50%;\n",
              "      cursor: pointer;\n",
              "      display: none;\n",
              "      fill: #1967D2;\n",
              "      height: 32px;\n",
              "      padding: 0 0 0 0;\n",
              "      width: 32px;\n",
              "    }\n",
              "\n",
              "    .colab-df-convert:hover {\n",
              "      background-color: #E2EBFA;\n",
              "      box-shadow: 0px 1px 2px rgba(60, 64, 67, 0.3), 0px 1px 3px 1px rgba(60, 64, 67, 0.15);\n",
              "      fill: #174EA6;\n",
              "    }\n",
              "\n",
              "    .colab-df-buttons div {\n",
              "      margin-bottom: 4px;\n",
              "    }\n",
              "\n",
              "    [theme=dark] .colab-df-convert {\n",
              "      background-color: #3B4455;\n",
              "      fill: #D2E3FC;\n",
              "    }\n",
              "\n",
              "    [theme=dark] .colab-df-convert:hover {\n",
              "      background-color: #434B5C;\n",
              "      box-shadow: 0px 1px 3px 1px rgba(0, 0, 0, 0.15);\n",
              "      filter: drop-shadow(0px 1px 2px rgba(0, 0, 0, 0.3));\n",
              "      fill: #FFFFFF;\n",
              "    }\n",
              "  </style>\n",
              "\n",
              "    <script>\n",
              "      const buttonEl =\n",
              "        document.querySelector('#df-10330394-2c32-422e-9ba3-29abc29d1e18 button.colab-df-convert');\n",
              "      buttonEl.style.display =\n",
              "        google.colab.kernel.accessAllowed ? 'block' : 'none';\n",
              "\n",
              "      async function convertToInteractive(key) {\n",
              "        const element = document.querySelector('#df-10330394-2c32-422e-9ba3-29abc29d1e18');\n",
              "        const dataTable =\n",
              "          await google.colab.kernel.invokeFunction('convertToInteractive',\n",
              "                                                    [key], {});\n",
              "        if (!dataTable) return;\n",
              "\n",
              "        const docLinkHtml = 'Like what you see? Visit the ' +\n",
              "          '<a target=\"_blank\" href=https://colab.research.google.com/notebooks/data_table.ipynb>data table notebook</a>'\n",
              "          + ' to learn more about interactive tables.';\n",
              "        element.innerHTML = '';\n",
              "        dataTable['output_type'] = 'display_data';\n",
              "        await google.colab.output.renderOutput(dataTable, element);\n",
              "        const docLink = document.createElement('div');\n",
              "        docLink.innerHTML = docLinkHtml;\n",
              "        element.appendChild(docLink);\n",
              "      }\n",
              "    </script>\n",
              "  </div>\n",
              "\n",
              "\n",
              "<div id=\"df-28b57eab-e4c7-4157-b051-3cd77d932c19\">\n",
              "  <button class=\"colab-df-quickchart\" onclick=\"quickchart('df-28b57eab-e4c7-4157-b051-3cd77d932c19')\"\n",
              "            title=\"Suggest charts\"\n",
              "            style=\"display:none;\">\n",
              "\n",
              "<svg xmlns=\"http://www.w3.org/2000/svg\" height=\"24px\"viewBox=\"0 0 24 24\"\n",
              "     width=\"24px\">\n",
              "    <g>\n",
              "        <path d=\"M19 3H5c-1.1 0-2 .9-2 2v14c0 1.1.9 2 2 2h14c1.1 0 2-.9 2-2V5c0-1.1-.9-2-2-2zM9 17H7v-7h2v7zm4 0h-2V7h2v10zm4 0h-2v-4h2v4z\"/>\n",
              "    </g>\n",
              "</svg>\n",
              "  </button>\n",
              "\n",
              "<style>\n",
              "  .colab-df-quickchart {\n",
              "      --bg-color: #E8F0FE;\n",
              "      --fill-color: #1967D2;\n",
              "      --hover-bg-color: #E2EBFA;\n",
              "      --hover-fill-color: #174EA6;\n",
              "      --disabled-fill-color: #AAA;\n",
              "      --disabled-bg-color: #DDD;\n",
              "  }\n",
              "\n",
              "  [theme=dark] .colab-df-quickchart {\n",
              "      --bg-color: #3B4455;\n",
              "      --fill-color: #D2E3FC;\n",
              "      --hover-bg-color: #434B5C;\n",
              "      --hover-fill-color: #FFFFFF;\n",
              "      --disabled-bg-color: #3B4455;\n",
              "      --disabled-fill-color: #666;\n",
              "  }\n",
              "\n",
              "  .colab-df-quickchart {\n",
              "    background-color: var(--bg-color);\n",
              "    border: none;\n",
              "    border-radius: 50%;\n",
              "    cursor: pointer;\n",
              "    display: none;\n",
              "    fill: var(--fill-color);\n",
              "    height: 32px;\n",
              "    padding: 0;\n",
              "    width: 32px;\n",
              "  }\n",
              "\n",
              "  .colab-df-quickchart:hover {\n",
              "    background-color: var(--hover-bg-color);\n",
              "    box-shadow: 0 1px 2px rgba(60, 64, 67, 0.3), 0 1px 3px 1px rgba(60, 64, 67, 0.15);\n",
              "    fill: var(--button-hover-fill-color);\n",
              "  }\n",
              "\n",
              "  .colab-df-quickchart-complete:disabled,\n",
              "  .colab-df-quickchart-complete:disabled:hover {\n",
              "    background-color: var(--disabled-bg-color);\n",
              "    fill: var(--disabled-fill-color);\n",
              "    box-shadow: none;\n",
              "  }\n",
              "\n",
              "  .colab-df-spinner {\n",
              "    border: 2px solid var(--fill-color);\n",
              "    border-color: transparent;\n",
              "    border-bottom-color: var(--fill-color);\n",
              "    animation:\n",
              "      spin 1s steps(1) infinite;\n",
              "  }\n",
              "\n",
              "  @keyframes spin {\n",
              "    0% {\n",
              "      border-color: transparent;\n",
              "      border-bottom-color: var(--fill-color);\n",
              "      border-left-color: var(--fill-color);\n",
              "    }\n",
              "    20% {\n",
              "      border-color: transparent;\n",
              "      border-left-color: var(--fill-color);\n",
              "      border-top-color: var(--fill-color);\n",
              "    }\n",
              "    30% {\n",
              "      border-color: transparent;\n",
              "      border-left-color: var(--fill-color);\n",
              "      border-top-color: var(--fill-color);\n",
              "      border-right-color: var(--fill-color);\n",
              "    }\n",
              "    40% {\n",
              "      border-color: transparent;\n",
              "      border-right-color: var(--fill-color);\n",
              "      border-top-color: var(--fill-color);\n",
              "    }\n",
              "    60% {\n",
              "      border-color: transparent;\n",
              "      border-right-color: var(--fill-color);\n",
              "    }\n",
              "    80% {\n",
              "      border-color: transparent;\n",
              "      border-right-color: var(--fill-color);\n",
              "      border-bottom-color: var(--fill-color);\n",
              "    }\n",
              "    90% {\n",
              "      border-color: transparent;\n",
              "      border-bottom-color: var(--fill-color);\n",
              "    }\n",
              "  }\n",
              "</style>\n",
              "\n",
              "  <script>\n",
              "    async function quickchart(key) {\n",
              "      const quickchartButtonEl =\n",
              "        document.querySelector('#' + key + ' button');\n",
              "      quickchartButtonEl.disabled = true;  // To prevent multiple clicks.\n",
              "      quickchartButtonEl.classList.add('colab-df-spinner');\n",
              "      try {\n",
              "        const charts = await google.colab.kernel.invokeFunction(\n",
              "            'suggestCharts', [key], {});\n",
              "      } catch (error) {\n",
              "        console.error('Error during call to suggestCharts:', error);\n",
              "      }\n",
              "      quickchartButtonEl.classList.remove('colab-df-spinner');\n",
              "      quickchartButtonEl.classList.add('colab-df-quickchart-complete');\n",
              "    }\n",
              "    (() => {\n",
              "      let quickchartButtonEl =\n",
              "        document.querySelector('#df-28b57eab-e4c7-4157-b051-3cd77d932c19 button');\n",
              "      quickchartButtonEl.style.display =\n",
              "        google.colab.kernel.accessAllowed ? 'block' : 'none';\n",
              "    })();\n",
              "  </script>\n",
              "</div>\n",
              "\n",
              "    </div>\n",
              "  </div>\n"
            ],
            "application/vnd.google.colaboratory.intrinsic+json": {
              "type": "dataframe",
              "variable_name": "df",
              "summary": "{\n  \"name\": \"df\",\n  \"rows\": 8,\n  \"fields\": [\n    {\n      \"column\": \"A\",\n      \"properties\": {\n        \"dtype\": \"number\",\n        \"std\": 1.4431096957240608,\n        \"min\": -2.2665780234576935,\n        \"max\": 1.8362120980021492,\n        \"num_unique_values\": 8,\n        \"samples\": [\n          1.8362120980021492,\n          0.1973446291815295,\n          1.2172774433523172\n        ],\n        \"semantic_type\": \"\",\n        \"description\": \"\"\n      }\n    },\n    {\n      \"column\": \"B\",\n      \"properties\": {\n        \"dtype\": \"number\",\n        \"std\": 1.140283811039604,\n        \"min\": -1.0630086107736085,\n        \"max\": 1.8429941798958784,\n        \"num_unique_values\": 8,\n        \"samples\": [\n          -0.45395306721992046,\n          1.7992942086952235,\n          1.8429941798958784\n        ],\n        \"semantic_type\": \"\",\n        \"description\": \"\"\n      }\n    },\n    {\n      \"column\": \"C\",\n      \"properties\": {\n        \"dtype\": \"number\",\n        \"std\": 1.4478558451159653,\n        \"min\": -1.4498505510922977,\n        \"max\": 2.756315986642005,\n        \"num_unique_values\": 8,\n        \"samples\": [\n          -1.1301486326418373,\n          2.756315986642005,\n          0.108061997754047\n        ],\n        \"semantic_type\": \"\",\n        \"description\": \"\"\n      }\n    },\n    {\n      \"column\": \"D\",\n      \"properties\": {\n        \"dtype\": \"number\",\n        \"std\": 0.8961775409648874,\n        \"min\": -1.5306226584690479,\n        \"max\": 0.947491737085243,\n        \"num_unique_values\": 8,\n        \"samples\": [\n          -0.7992236988406553,\n          -1.2892045163468808,\n          0.947491737085243\n        ],\n        \"semantic_type\": \"\",\n        \"description\": \"\"\n      }\n    }\n  ]\n}"
            }
          },
          "metadata": {},
          "execution_count": 16
        }
      ]
    },
    {
      "cell_type": "code",
      "source": [
        "s = df['A']\n",
        "print(f\"The type of s is {type(s)} and \\nThe type of dates is {type(dates)}\")\n",
        "print(f\"The type of one element of dates is {type(dates[5])}\")\n",
        "#Now since dates[5] will be the index value of the dataframe\n",
        "#So for s[dates[5]] will be index - 5 in the series\n",
        "print(f\"The value of dates[5] is {dates[5]} and \\nThe value of s[dates[5]] is {s[dates[5]]}\")"
      ],
      "metadata": {
        "colab": {
          "base_uri": "https://localhost:8080/"
        },
        "id": "FbHXGlqrBpIl",
        "outputId": "8978191f-e659-48db-8a69-d85fed7fe62c"
      },
      "execution_count": 18,
      "outputs": [
        {
          "output_type": "stream",
          "name": "stdout",
          "text": [
            "The type of s is <class 'pandas.core.series.Series'> and \n",
            "The type of dates is <class 'pandas.core.indexes.datetimes.DatetimeIndex'>\n",
            "The type of one element of dates is <class 'pandas._libs.tslibs.timestamps.Timestamp'>\n",
            "The value of dates[5] is 2000-01-06 00:00:00 and \n",
            "The value of s[dates[5]] is 0.1973446291815295\n"
          ]
        }
      ]
    },
    {
      "cell_type": "markdown",
      "source": [
        "### Using multiple columns\n",
        "\n",
        "\n",
        "1.   The below code is useful for applying a transform (in-place) to a subset of the columns\n"
      ],
      "metadata": {
        "id": "mJS9eb5OEIcl"
      }
    },
    {
      "cell_type": "code",
      "source": [
        "df[['A','B']] = df[['B','A']]"
      ],
      "metadata": {
        "id": "aBP1S3k8DYJ8"
      },
      "execution_count": 21,
      "outputs": []
    },
    {
      "cell_type": "code",
      "source": [],
      "metadata": {
        "id": "qEs48Wg6AzvY"
      },
      "execution_count": null,
      "outputs": []
    },
    {
      "cell_type": "markdown",
      "source": [
        "## Differentiate between `.iloc[]`, `.loc[]` and `[]` using an analogy:\n",
        "\n",
        "Let's imagine you're organizing books on different shelves in a library. Each book has a specific label (like the title), and each shelf has a specific position (like the row number).\n",
        "\n",
        "1. `.loc[]` – Think of it as using labels:\n",
        "* When using `.loc[]`, it's like saying, \"I want the book with the title 'Data Science' from the 'Science' section.\" You are using names or labels to get specific rows and columns.\n",
        "* *Analogy*: You're asking for the book by its title or category name, so you need to know the labels.\n",
        "* *Example*:  If you ask for `.loc['Science', 'Data Science']`, you're asking for the specific entry labeled as 'Science' in the 'Data Science' column.\n",
        "2. `.iloc[]` – Think of it as using positions:\n",
        "* When using .iloc[], it's like saying, \"I want the book that's on shelf 3, position 5.\" You're using the numerical positions (like row and column numbers) to access the data.\n",
        "* *Analogy*: You're counting the shelves and books, asking for the 3rd book from the left on the 2nd shelf. It's purely based on numbers.\n",
        "* *Example*: If you use `.iloc[2, 4]`, you're asking for the 3rd row and 5th column by their numerical positions, regardless of their labels.\n",
        "3. `[]` for indexing – Think of it as asking for the whole shelf or column:\n",
        "* When you just use [], it's like saying, \"I want everything from the 'Data Science' section\" without specifying a shelf number. You are retrieving an entire column or set of columns by label.\n",
        "* *Analogy*: You’re asking for all the books in one section by its label, without focusing on individual positions.\n",
        "* *Example*: df['Data Science'] retrieves the entire column named 'Data Science' but doesn’t care about row positions or column numbers."
      ],
      "metadata": {
        "id": "YEJ7vp9WFnGl"
      }
    },
    {
      "cell_type": "markdown",
      "source": [
        "## Summary:\n",
        "\n",
        "* `.loc[]` is like asking for specific rows and columns by labels (e.g., section names or book titles).\n",
        "* `.iloc[]` is like asking for specific rows and columns by their numeric positions (e.g., shelf number or book position).\n",
        "* `[]` is like asking for the entire section/column by its name (e.g., the whole 'Data Science' column)."
      ],
      "metadata": {
        "id": "qDQz5YCRGpF7"
      }
    }
  ]
}