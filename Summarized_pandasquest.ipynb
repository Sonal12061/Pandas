{
  "cells": [
    {
      "cell_type": "markdown",
      "source": [
        "# Lesson Pandas"
      ],
      "metadata": {
        "id": "t0WGr-ZQTkHn"
      },
      "id": "t0WGr-ZQTkHn"
    },
    {
      "cell_type": "code",
      "source": [
        "import pandas as pd\n",
        "import numpy as np\n",
        "import random"
      ],
      "metadata": {
        "id": "6WGrm4gnT9Uy"
      },
      "id": "6WGrm4gnT9Uy",
      "execution_count": 4,
      "outputs": []
    },
    {
      "cell_type": "markdown",
      "source": [
        "## Assignment 1: DataFrame Creation and Indexing"
      ],
      "metadata": {
        "id": "zWDRLhBOTrcm"
      },
      "id": "zWDRLhBOTrcm"
    },
    {
      "cell_type": "markdown",
      "source": [
        "### Create a Pandas DataFrame with 4 columns and 6 rows filled with random integers. Set the index to be the first column."
      ],
      "metadata": {
        "id": "9webCiuFT5Py"
      },
      "id": "9webCiuFT5Py"
    },
    {
      "cell_type": "code",
      "source": [
        "data = np.random.randint(1,100,size=(6,4))\n",
        "df = pd.DataFrame(data, columns=['A', 'B', 'C', 'D'])\n",
        "print('Original Dataframe')\n",
        "print(df)\n",
        "print(\"\\n\")\n",
        "df = df.set_index('A')\n",
        "print('Dataframe with index set to first column:')\n",
        "print(df)"
      ],
      "metadata": {
        "colab": {
          "base_uri": "https://localhost:8080/"
        },
        "id": "TNJrCX55WI4d",
        "outputId": "5b1653c1-56d2-483d-99aa-3377f5e425d9"
      },
      "id": "TNJrCX55WI4d",
      "execution_count": 17,
      "outputs": [
        {
          "output_type": "stream",
          "name": "stdout",
          "text": [
            "Original Dataframe\n",
            "    A   B   C   D\n",
            "0   3  74  35  92\n",
            "1  44   6  99  38\n",
            "2  25  49  12  72\n",
            "3   3  15  84  31\n",
            "4  22  28  43  33\n",
            "5  99  79  48  38\n",
            "\n",
            "\n",
            "Dataframe with index set to first column:\n",
            "     B   C   D\n",
            "A             \n",
            "3   74  35  92\n",
            "44   6  99  38\n",
            "25  49  12  72\n",
            "3   15  84  31\n",
            "22  28  43  33\n",
            "99  79  48  38\n"
          ]
        }
      ]
    },
    {
      "cell_type": "markdown",
      "source": [
        "### Create a Pandas DataFrame with columns 'A', 'B', 'C' and index 'X', 'Y', 'Z'. Fill the DataFrame with random integers and access the element at row 'Y' and column 'B'."
      ],
      "metadata": {
        "id": "sZrhkp5FXvUF"
      },
      "id": "sZrhkp5FXvUF"
    },
    {
      "cell_type": "code",
      "source": [
        "df = pd.DataFrame(data= np.random.randint(1,100,size=(3,3)),columns=['A','B','C'],index=['X', 'Y', 'Z'])\n",
        "print(\"The dataframe is\")\n",
        "print(df)\n",
        "print(f\"\\nThe element ar row Y and column B is {df['B']['Y']}\")"
      ],
      "metadata": {
        "colab": {
          "base_uri": "https://localhost:8080/"
        },
        "id": "yFV4UmdMXYiR",
        "outputId": "5a84503f-9856-4be9-dd2d-0a29572f50ae"
      },
      "id": "yFV4UmdMXYiR",
      "execution_count": 24,
      "outputs": [
        {
          "output_type": "stream",
          "name": "stdout",
          "text": [
            "The dataframe is\n",
            "    A   B   C\n",
            "X  29  63   6\n",
            "Y  63  69  90\n",
            "Z  55  68  66\n",
            "\n",
            "The element ar row Y and column B is 69\n"
          ]
        }
      ]
    },
    {
      "cell_type": "markdown",
      "source": [
        "## Assignment 2: DataFrame Operations"
      ],
      "metadata": {
        "id": "Xqb_jUp5Zw1Y"
      },
      "id": "Xqb_jUp5Zw1Y"
    },
    {
      "cell_type": "markdown",
      "source": [
        "### Create a Pandas DataFrame with 3 columns and 5 rows filled with random integers. Add a new column that is the product of the first two columns."
      ],
      "metadata": {
        "id": "K6fspAMsZ2G_"
      },
      "id": "K6fspAMsZ2G_"
    },
    {
      "cell_type": "code",
      "source": [
        "df = pd.DataFrame(data=np.random.randint(1,10,size=(5,3)),columns=['A','B','C'])\n",
        "print(\"Original Dataframe\")\n",
        "print(df)\n",
        "print(\"\\n\")\n",
        "df['Product'] = df['A']*df['B']\n",
        "print(\"Dataframe with new column\")\n",
        "print(df)"
      ],
      "metadata": {
        "colab": {
          "base_uri": "https://localhost:8080/"
        },
        "id": "n2eXzz66YlMg",
        "outputId": "c07fa2e3-f478-485c-b808-5157b1fbc782"
      },
      "id": "n2eXzz66YlMg",
      "execution_count": 28,
      "outputs": [
        {
          "output_type": "stream",
          "name": "stdout",
          "text": [
            "Original Dataframe\n",
            "   A  B  C\n",
            "0  2  9  8\n",
            "1  7  9  8\n",
            "2  6  5  8\n",
            "3  3  5  6\n",
            "4  8  2  5\n",
            "\n",
            "\n",
            "Dataframe with new column\n",
            "   A  B  C  Product\n",
            "0  2  9  8       18\n",
            "1  7  9  8       63\n",
            "2  6  5  8       30\n",
            "3  3  5  6       15\n",
            "4  8  2  5       16\n"
          ]
        }
      ]
    },
    {
      "cell_type": "markdown",
      "source": [
        "### Create a Pandas DataFrame with 3 columns and 4 rows filled with random integers. Compute the row-wise and column-wise sum."
      ],
      "metadata": {
        "id": "v31YQsdZZzGU"
      },
      "id": "v31YQsdZZzGU"
    },
    {
      "cell_type": "code",
      "source": [
        "df = pd.DataFrame(data=np.random.randint(1,10,size=(4,3)),columns=['A','B','C'])\n",
        "print(\"Original Dataframe\")\n",
        "print(df)\n",
        "print(f\"\\nRow-Wise Sum:\\n{df.sum(axis=1)}\\n\")\n",
        "print(f\"Column-Wise Sum:\\n{df.sum(axis=0)}\")"
      ],
      "metadata": {
        "colab": {
          "base_uri": "https://localhost:8080/"
        },
        "id": "xSEANDH3aqsX",
        "outputId": "2c493f0c-0ac1-4e5d-d679-253c6c57a9ca"
      },
      "id": "xSEANDH3aqsX",
      "execution_count": 33,
      "outputs": [
        {
          "output_type": "stream",
          "name": "stdout",
          "text": [
            "Original Dataframe\n",
            "   A  B  C\n",
            "0  5  7  6\n",
            "1  2  2  5\n",
            "2  3  6  7\n",
            "3  6  8  5\n",
            "\n",
            "Row-Wise Sum:\n",
            "0    18\n",
            "1     9\n",
            "2    16\n",
            "3    19\n",
            "dtype: int64\n",
            "\n",
            "Column-Wise Sum:\n",
            "A    16\n",
            "B    23\n",
            "C    23\n",
            "dtype: int64\n"
          ]
        }
      ]
    },
    {
      "cell_type": "markdown",
      "source": [
        "## Assignment 3: Data Cleaning"
      ],
      "metadata": {
        "id": "k-YaoIyQbZqz"
      },
      "id": "k-YaoIyQbZqz"
    },
    {
      "cell_type": "markdown",
      "source": [
        "### Create a Pandas DataFrame with 3 columns and 5 rows filled with random integers. Introduce some NaN values. Fill the NaN values with the mean of the respective columns."
      ],
      "metadata": {
        "id": "8LSwAHYpbdSG"
      },
      "id": "8LSwAHYpbdSG"
    },
    {
      "cell_type": "code",
      "source": [
        "df = pd.DataFrame(data=np.random.randint(1,10,size=(5,3)),columns=['A','B','C'])\n",
        "print(\"Original Dataframe\")\n",
        "print(df)\n",
        "print(\"\\n\")\n",
        "df.iloc[1,2]=np.NaN\n",
        "df.iloc[2,1]=np.NaN\n",
        "df.iloc[3,0]=np.NaN\n",
        "print(\"Dataframe with NaN values\")\n",
        "print(df)\n",
        "print(\"\\n\")\n",
        "df = df.fillna(df.mean(axis=0))\n",
        "print(\"Dataframe with NaN values filled with mean\")\n",
        "print(df)"
      ],
      "metadata": {
        "colab": {
          "base_uri": "https://localhost:8080/"
        },
        "id": "seLXPMxsbD9K",
        "outputId": "654788b3-7bbd-44d9-a51b-e5e775d07811"
      },
      "id": "seLXPMxsbD9K",
      "execution_count": 39,
      "outputs": [
        {
          "output_type": "stream",
          "name": "stdout",
          "text": [
            "Original Dataframe\n",
            "   A  B  C\n",
            "0  4  3  2\n",
            "1  3  1  2\n",
            "2  3  2  5\n",
            "3  9  9  2\n",
            "4  3  6  2\n",
            "\n",
            "\n",
            "Dataframe with NaN values\n",
            "     A    B    C\n",
            "0  4.0  3.0  2.0\n",
            "1  3.0  1.0  NaN\n",
            "2  3.0  NaN  5.0\n",
            "3  NaN  9.0  2.0\n",
            "4  3.0  6.0  2.0\n",
            "\n",
            "\n",
            "Dataframe with NaN values filled with mean\n",
            "      A     B     C\n",
            "0  4.00  3.00  2.00\n",
            "1  3.00  1.00  2.75\n",
            "2  3.00  4.75  5.00\n",
            "3  3.25  9.00  2.00\n",
            "4  3.00  6.00  2.00\n"
          ]
        }
      ]
    },
    {
      "cell_type": "markdown",
      "source": [
        "### Create a Pandas DataFrame with 4 columns and 6 rows filled with random integers. Introduce some NaN values. Drop the rows with any NaN values."
      ],
      "metadata": {
        "id": "Aabfwti8cwNv"
      },
      "id": "Aabfwti8cwNv"
    },
    {
      "cell_type": "code",
      "source": [
        "df = pd.DataFrame(data=np.random.randint(1,10,size=(6,4)),columns=['A','B','C','D'])\n",
        "print(\"Original Dataframe\")\n",
        "print(df)\n",
        "print(\"\\n\")\n",
        "df.iloc[1,2]=np.NaN\n",
        "df.iloc[2,1]=np.NaN\n",
        "df.iloc[4,3]=np.NaN\n",
        "print(\"Dataframe with NaN values\")\n",
        "print(df)\n",
        "print(\"\\n\")\n",
        "df = df.dropna()\n",
        "print(\"Dataframe with NaN values dropped\")\n",
        "print(df)"
      ],
      "metadata": {
        "colab": {
          "base_uri": "https://localhost:8080/"
        },
        "id": "CW8YOhX4cEtC",
        "outputId": "7e798390-5a84-4974-da99-f78354f4d4a6"
      },
      "id": "CW8YOhX4cEtC",
      "execution_count": 42,
      "outputs": [
        {
          "output_type": "stream",
          "name": "stdout",
          "text": [
            "Original Dataframe\n",
            "   A  B  C  D\n",
            "0  8  4  8  5\n",
            "1  3  9  8  5\n",
            "2  8  3  7  3\n",
            "3  9  8  6  3\n",
            "4  8  9  2  2\n",
            "5  4  4  4  8\n",
            "\n",
            "\n",
            "Dataframe with NaN values\n",
            "   A    B    C    D\n",
            "0  8  4.0  8.0  5.0\n",
            "1  3  9.0  NaN  5.0\n",
            "2  8  NaN  7.0  3.0\n",
            "3  9  8.0  6.0  3.0\n",
            "4  8  9.0  2.0  NaN\n",
            "5  4  4.0  4.0  8.0\n",
            "\n",
            "\n",
            "Dataframe with NaN values dropped\n",
            "   A    B    C    D\n",
            "0  8  4.0  8.0  5.0\n",
            "3  9  8.0  6.0  3.0\n",
            "5  4  4.0  4.0  8.0\n"
          ]
        }
      ]
    },
    {
      "cell_type": "markdown",
      "source": [
        "## Assignment 4: Data Aggregation"
      ],
      "metadata": {
        "id": "EtutpVc9dYhB"
      },
      "id": "EtutpVc9dYhB"
    },
    {
      "cell_type": "markdown",
      "source": [
        "### Create a Pandas DataFrame with 2 columns: 'Category' and 'Value'. Fill the 'Category' column with random categories ('A', 'B', 'C') and the 'Value' column with random integers. Group the DataFrame by 'Category' and compute the sum and mean of 'Value' for each category."
      ],
      "metadata": {
        "id": "0qJxBZO-dbcN"
      },
      "id": "0qJxBZO-dbcN"
    },
    {
      "cell_type": "code",
      "source": [
        "import random\n",
        "data = [[random.choice(['A', 'B', 'C']),np.random.randint(1,10)] for i in range(10)]\n",
        "df = pd.DataFrame(data,columns=['Category','Value'])\n",
        "print(\"Original Dataframe\")\n",
        "print(df)\n",
        "grouped = df.groupby('Category')['Value'].agg(['sum','mean','count'])\n",
        "print(\"\\n\")\n",
        "print(\"Grouped Dataframe\")\n",
        "print(grouped)"
      ],
      "metadata": {
        "colab": {
          "base_uri": "https://localhost:8080/"
        },
        "id": "Fxg-JLd7dFCh",
        "outputId": "c81358d0-d8dc-4b23-c1ef-f291fabdd648"
      },
      "id": "Fxg-JLd7dFCh",
      "execution_count": 58,
      "outputs": [
        {
          "output_type": "stream",
          "name": "stdout",
          "text": [
            "Original Dataframe\n",
            "  Category  Value\n",
            "0        A      3\n",
            "1        A      9\n",
            "2        A      4\n",
            "3        B      9\n",
            "4        A      9\n",
            "5        C      1\n",
            "6        B      4\n",
            "7        B      1\n",
            "8        B      8\n",
            "9        A      9\n",
            "\n",
            "\n",
            "Grouped Dataframe\n",
            "          sum  mean  count\n",
            "Category                  \n",
            "A          34   6.8      5\n",
            "B          22   5.5      4\n",
            "C           1   1.0      1\n"
          ]
        }
      ]
    },
    {
      "cell_type": "markdown",
      "source": [
        "### Create a Pandas DataFrame with 3 columns: 'Product', 'Category', and 'Sales'. Fill the DataFrame with random data. Group the DataFrame by 'Category' and compute the total sales for each category."
      ],
      "metadata": {
        "id": "X97CRgEchkrz"
      },
      "id": "X97CRgEchkrz"
    },
    {
      "cell_type": "code",
      "source": [
        "data = [[random.choice(['A', 'B', 'C']),random.choice(['D','E']),np.random.randint(1000,10000)] for i in range(20)]\n",
        "df = pd.DataFrame(data,columns=['Product','Category','Sales'])\n",
        "print(\"Original Dataframe\")\n",
        "print(df)\n",
        "grouped = df.groupby('Category')['Sales'].agg(['sum'])\n",
        "print(\"\\n\")\n",
        "print(\"Grouped Dataframe:\")\n",
        "print(grouped)"
      ],
      "metadata": {
        "colab": {
          "base_uri": "https://localhost:8080/"
        },
        "id": "kEeYf4LBd0IH",
        "outputId": "5601d41e-9e0e-4d0b-c75f-5b7c14cc3847"
      },
      "id": "kEeYf4LBd0IH",
      "execution_count": 70,
      "outputs": [
        {
          "output_type": "stream",
          "name": "stdout",
          "text": [
            "Original Dataframe\n",
            "   Product Category  Sales\n",
            "0        C        E   4534\n",
            "1        C        E   8410\n",
            "2        C        D   7740\n",
            "3        B        D   7695\n",
            "4        C        E   1406\n",
            "5        A        D   8784\n",
            "6        C        D   5595\n",
            "7        C        E   8126\n",
            "8        B        D   1749\n",
            "9        C        E   2466\n",
            "10       A        E   5917\n",
            "11       A        D   2634\n",
            "12       A        D   7934\n",
            "13       C        D   9648\n",
            "14       B        E   1680\n",
            "15       C        E   6781\n",
            "16       C        E   7077\n",
            "17       B        E   6365\n",
            "18       A        D   6486\n",
            "19       A        E   2457\n",
            "\n",
            "\n",
            "Grouped Dataframe:\n",
            "            sum\n",
            "Category       \n",
            "D         58265\n",
            "E         55219\n"
          ]
        }
      ]
    },
    {
      "cell_type": "markdown",
      "source": [
        "## Assignment 5: Merging DataFrames"
      ],
      "metadata": {
        "id": "WyD4y8TMhuXr"
      },
      "id": "WyD4y8TMhuXr"
    },
    {
      "cell_type": "markdown",
      "source": [
        "### Create two Pandas DataFrames with a common column. Merge the DataFrames using the common column."
      ],
      "metadata": {
        "id": "zik-JXA5hyD_"
      },
      "id": "zik-JXA5hyD_"
    },
    {
      "cell_type": "code",
      "source": [
        "# Create two Pandas DataFrames with a common column\n",
        "df1 = pd.DataFrame({'Key': ['A', 'B', 'C', 'D'], 'Value1': np.random.randint(1, 100, size=4)})\n",
        "df2 = pd.DataFrame({'Key': ['A', 'B', 'C', 'E'], 'Value2': np.random.randint(1, 100, size=4)})\n",
        "print(\"DataFrame 1:\")\n",
        "print(df1)\n",
        "print(\"DataFrame 2:\")\n",
        "print(df2)\n",
        "\n",
        "# Merge the DataFrames using the common column\n",
        "merged = pd.merge(df1, df2, on='Key')\n",
        "print(\"Merged DataFrame:\")\n",
        "print(merged)"
      ],
      "metadata": {
        "colab": {
          "base_uri": "https://localhost:8080/"
        },
        "id": "U-m3KOM7guIL",
        "outputId": "90fc7c3f-f496-48cc-efcd-71839264c8ea"
      },
      "id": "U-m3KOM7guIL",
      "execution_count": 2,
      "outputs": [
        {
          "output_type": "stream",
          "name": "stdout",
          "text": [
            "DataFrame 1:\n",
            "  Key  Value1\n",
            "0   A      10\n",
            "1   B      51\n",
            "2   C      69\n",
            "3   D      18\n",
            "DataFrame 2:\n",
            "  Key  Value2\n",
            "0   A      33\n",
            "1   B      46\n",
            "2   C      13\n",
            "3   E      77\n",
            "Merged DataFrame:\n",
            "  Key  Value1  Value2\n",
            "0   A      10      33\n",
            "1   B      51      46\n",
            "2   C      69      13\n"
          ]
        }
      ]
    },
    {
      "cell_type": "markdown",
      "source": [
        "### Perform a left join on two DataFrames - keeping all rows from the left DataFrame and matching rows from the right DataFrame.\n",
        "\n"
      ],
      "metadata": {
        "id": "hG3XnzBd-qEs"
      },
      "id": "hG3XnzBd-qEs"
    },
    {
      "cell_type": "code",
      "source": [
        "df1 = pd.DataFrame({'Key': [random.choice(['A', 'B', 'C', 'E']) for _ in range(4)], 'Value1': np.random.randint(1,10,size=4)})\n",
        "df2 = pd.DataFrame({'Key': [random.choice(['A', 'B', 'C', 'D']) for _ in range(4)], 'Value2': np.random.randint(1,10,size=4)})\n",
        "print(\"DataFrame 1:\")\n",
        "print(df1)\n",
        "print(\"DataFrame 2:\")\n",
        "print(df2)\n",
        "merged = pd.merge(df1,df2,on='Key',how='left')\n",
        "print(\"Merged DataFrame:\")\n",
        "print(merged)"
      ],
      "metadata": {
        "colab": {
          "base_uri": "https://localhost:8080/"
        },
        "id": "GI1JHq3A-i2v",
        "outputId": "db6fe409-8927-482c-f3ce-0de6b07bb831"
      },
      "id": "GI1JHq3A-i2v",
      "execution_count": 11,
      "outputs": [
        {
          "output_type": "stream",
          "name": "stdout",
          "text": [
            "DataFrame 1:\n",
            "  Key  Value1\n",
            "0   C       3\n",
            "1   A       8\n",
            "2   A       8\n",
            "3   B       5\n",
            "DataFrame 2:\n",
            "  Key  Value2\n",
            "0   D       5\n",
            "1   A       6\n",
            "2   C       4\n",
            "3   C       8\n",
            "Merged DataFrame:\n",
            "  Key  Value1  Value2\n",
            "0   C       3     4.0\n",
            "1   C       3     8.0\n",
            "2   A       8     6.0\n",
            "3   A       8     6.0\n",
            "4   B       5     NaN\n"
          ]
        }
      ]
    },
    {
      "cell_type": "markdown",
      "source": [
        "### Perform a right join on two DataFrames, keeping all rows from the right DataFrame and matching rows from the left DataFrame."
      ],
      "metadata": {
        "id": "w5vm7GybAG_D"
      },
      "id": "w5vm7GybAG_D"
    },
    {
      "cell_type": "code",
      "source": [
        "df1 = pd.DataFrame({'Key': ['A', 'B', 'C', 'D'], 'Value1': np.random.randint(1, 100, size=4)})\n",
        "df2 = pd.DataFrame({'Key': ['A', 'B', 'C', 'E'], 'Value2': np.random.randint(1, 100, size=4)})\n",
        "print(\"DataFrame 1:\")\n",
        "print(df1)\n",
        "print(\"DataFrame 2:\")\n",
        "print(df2)\n",
        "\n",
        "merged = pd.merge(df1,df2,on='Key',how='right')\n",
        "print(\"Merged DataFrame:\")\n",
        "print(merged)"
      ],
      "metadata": {
        "colab": {
          "base_uri": "https://localhost:8080/"
        },
        "id": "zU35kb-lALw0",
        "outputId": "c6bbffa8-071a-4f3d-bfb6-39abcea25460"
      },
      "id": "zU35kb-lALw0",
      "execution_count": 13,
      "outputs": [
        {
          "output_type": "stream",
          "name": "stdout",
          "text": [
            "DataFrame 1:\n",
            "  Key  Value1\n",
            "0   A      14\n",
            "1   B      79\n",
            "2   C      77\n",
            "3   D      45\n",
            "DataFrame 2:\n",
            "  Key  Value2\n",
            "0   A      20\n",
            "1   B      41\n",
            "2   C      26\n",
            "3   E      78\n",
            "Merged DataFrame:\n",
            "  Key  Value1  Value2\n",
            "0   A    14.0      20\n",
            "1   B    79.0      41\n",
            "2   C    77.0      26\n",
            "3   E     NaN      78\n"
          ]
        }
      ]
    },
    {
      "cell_type": "markdown",
      "source": [
        "### Perform an inner join on two DataFrames, keeping only the rows that have matching values in both DataFrames."
      ],
      "metadata": {
        "id": "z8-bww6sAmN-"
      },
      "id": "z8-bww6sAmN-"
    },
    {
      "cell_type": "code",
      "source": [
        "df1 = pd.DataFrame({'Key': ['A', 'B', 'C', 'D'], 'Value1': np.random.randint(1, 100, size=4)})\n",
        "df2 = pd.DataFrame({'Key': ['A', 'B', 'C', 'E'], 'Value2': np.random.randint(1, 100, size=4)})\n",
        "print(\"DataFrame 1:\")\n",
        "print(df1)\n",
        "print(\"DataFrame 2:\")\n",
        "print(df2)\n",
        "\n",
        "merged = pd.merge(df1,df2,how='inner')\n",
        "print(\"Merged DataFrame:\")\n",
        "print(merged)\n"
      ],
      "metadata": {
        "colab": {
          "base_uri": "https://localhost:8080/"
        },
        "id": "__it3yAsAr8G",
        "outputId": "1d9070b1-c816-41a1-8ad5-7f29d7efc583"
      },
      "id": "__it3yAsAr8G",
      "execution_count": 14,
      "outputs": [
        {
          "output_type": "stream",
          "name": "stdout",
          "text": [
            "DataFrame 1:\n",
            "  Key  Value1\n",
            "0   A      23\n",
            "1   B      76\n",
            "2   C      98\n",
            "3   D      87\n",
            "DataFrame 2:\n",
            "  Key  Value2\n",
            "0   A       4\n",
            "1   B      18\n",
            "2   C      37\n",
            "3   E      97\n",
            "Merged DataFrame:\n",
            "  Key  Value1  Value2\n",
            "0   A      23       4\n",
            "1   B      76      18\n",
            "2   C      98      37\n"
          ]
        }
      ]
    },
    {
      "cell_type": "markdown",
      "source": [
        "### Perform an outer join on two DataFrames, keeping all rows from both DataFrames, even if there are no matching values."
      ],
      "metadata": {
        "id": "TfuNmVGjBBjk"
      },
      "id": "TfuNmVGjBBjk"
    },
    {
      "cell_type": "code",
      "source": [
        "df1 = pd.DataFrame({'Key': ['A', 'B', 'C', 'D'], 'Value1': np.random.randint(1, 100, size=4)})\n",
        "df2 = pd.DataFrame({'Key': ['A', 'B', 'C', 'E'], 'Value2': np.random.randint(1, 100, size=4)})\n",
        "print(\"DataFrame 1:\")\n",
        "print(df1)\n",
        "print(\"DataFrame 2:\")\n",
        "print(df2)\n",
        "\n",
        "merged = pd.merge(df1,df2,how='outer')\n",
        "print(\"Merged DataFrame:\")\n",
        "print(merged)\n"
      ],
      "metadata": {
        "colab": {
          "base_uri": "https://localhost:8080/"
        },
        "id": "2dfArAEyBLcJ",
        "outputId": "65bf2a1a-8a34-4352-afb4-9c327f4d32e6"
      },
      "id": "2dfArAEyBLcJ",
      "execution_count": 15,
      "outputs": [
        {
          "output_type": "stream",
          "name": "stdout",
          "text": [
            "DataFrame 1:\n",
            "  Key  Value1\n",
            "0   A      90\n",
            "1   B      73\n",
            "2   C      33\n",
            "3   D      57\n",
            "DataFrame 2:\n",
            "  Key  Value2\n",
            "0   A      40\n",
            "1   B      10\n",
            "2   C      42\n",
            "3   E      34\n",
            "Merged DataFrame:\n",
            "  Key  Value1  Value2\n",
            "0   A    90.0    40.0\n",
            "1   B    73.0    10.0\n",
            "2   C    33.0    42.0\n",
            "3   D    57.0     NaN\n",
            "4   E     NaN    34.0\n"
          ]
        }
      ]
    },
    {
      "cell_type": "markdown",
      "source": [
        "### Merge multiple DataFrames with different common columns."
      ],
      "metadata": {
        "id": "mDsqqeF7BQYc"
      },
      "id": "mDsqqeF7BQYc"
    },
    {
      "cell_type": "code",
      "source": [
        "df1 = pd.DataFrame({'key1': ['a', 'b'], 'value1': [1, 2]})\n",
        "df2 = pd.DataFrame({'key2': ['b', 'c'], 'value2': [3, 4]})\n",
        "df3 = pd.DataFrame({'key1': ['a', 'c'], 'value3': [5, 6]})\n",
        "print(\"DataFrame 1:\")\n",
        "print(df1)\n",
        "print(\"DataFrame 2:\")\n",
        "print(df2)\n",
        "print(\"DataFrame 3:\")\n",
        "print(df3)\n",
        "\n",
        "merged_df = pd.merge(df1, df2, left_on='key1', right_on='key2', how='outer')\n",
        "print(\"Merged DataFrame:\\n\")\n",
        "print(merged_df)\n",
        "merged_df = pd.merge(merged_df,df3,on='key1',how='outer')\n",
        "print(\"Merged DataFrame:\\n\")\n",
        "print(merged_df)"
      ],
      "metadata": {
        "colab": {
          "base_uri": "https://localhost:8080/"
        },
        "id": "3T3TfWw4BeYM",
        "outputId": "1f3818da-5d52-4dc1-b081-028457cbef17"
      },
      "id": "3T3TfWw4BeYM",
      "execution_count": 18,
      "outputs": [
        {
          "output_type": "stream",
          "name": "stdout",
          "text": [
            "DataFrame 1:\n",
            "  key1  value1\n",
            "0    a       1\n",
            "1    b       2\n",
            "DataFrame 2:\n",
            "  key2  value2\n",
            "0    b       3\n",
            "1    c       4\n",
            "DataFrame 3:\n",
            "  key1  value3\n",
            "0    a       5\n",
            "1    c       6\n",
            "Merged DataFrame:\n",
            "\n",
            "  key1  value1 key2  value2\n",
            "0    a     1.0  NaN     NaN\n",
            "1    b     2.0    b     3.0\n",
            "2  NaN     NaN    c     4.0\n",
            "Merged DataFrame:\n",
            "\n",
            "  key1  value1 key2  value2  value3\n",
            "0    a     1.0  NaN     NaN     5.0\n",
            "1    b     2.0    b     3.0     NaN\n",
            "2    c     NaN  NaN     NaN     6.0\n",
            "3  NaN     NaN    c     4.0     NaN\n"
          ]
        }
      ]
    },
    {
      "cell_type": "markdown",
      "source": [
        "### Merge DataFrames with duplicate column names and specify how to handle them."
      ],
      "metadata": {
        "id": "B_8RXaTOF5Mj"
      },
      "id": "B_8RXaTOF5Mj"
    },
    {
      "cell_type": "code",
      "source": [
        "# Create DataFrames\n",
        "df1 = pd.DataFrame({'key': ['a', 'b'], 'value': [1, 2]})\n",
        "df2 = pd.DataFrame({'key': ['b', 'c'], 'value': [3, 4]})\n",
        "\n",
        "# Merge with duplicate column handling\n",
        "merged_df = pd.merge(df1, df2, on='key', suffixes=('_x', '_y'))\n",
        "\n",
        "print(merged_df)"
      ],
      "metadata": {
        "colab": {
          "base_uri": "https://localhost:8080/"
        },
        "id": "UlfiiKXkCS3U",
        "outputId": "5a771161-10e7-495d-dda0-63a31af707f6"
      },
      "id": "UlfiiKXkCS3U",
      "execution_count": 19,
      "outputs": [
        {
          "output_type": "stream",
          "name": "stdout",
          "text": [
            "  key  value_x  value_y\n",
            "0   b        2        3\n"
          ]
        }
      ]
    },
    {
      "cell_type": "markdown",
      "source": [
        "### Create two Pandas DataFrames with different columns"
      ],
      "metadata": {
        "id": "UWWWk3jZGdJO"
      },
      "id": "UWWWk3jZGdJO"
    },
    {
      "cell_type": "code",
      "source": [
        "# Create two Pandas DataFrames with a common column\n",
        "df1 = pd.DataFrame({'Key': ['A', 'B', 'C', 'D'], 'Value1': np.random.randint(1, 100, size=4)})\n",
        "df2 = pd.DataFrame({'Key': ['A', 'B', 'C', 'E'], 'Value2': np.random.randint(1, 100, size=4)})\n",
        "print(\"DataFrame 1:\")\n",
        "print(df1)\n",
        "print(\"DataFrame 2:\")\n",
        "print(df2)\n",
        "\n",
        "# Concatenate the DataFrames along the rows\n",
        "concat_rows = pd.concat([df1, df2], axis=0)\n",
        "print(\"Concatenated DataFrame (rows):\")\n",
        "print(concat_rows)\n",
        "\n",
        "# Concatenate the DataFrames along the columns\n",
        "concat_columns = pd.concat([df1, df2], axis=1)\n",
        "print(\"Concatenated DataFrame (columns):\")\n",
        "print(concat_columns)"
      ],
      "metadata": {
        "colab": {
          "base_uri": "https://localhost:8080/"
        },
        "id": "B90p5PJfiDx_",
        "outputId": "f6904b38-e1d5-4076-b2e9-46a57947a082"
      },
      "id": "B90p5PJfiDx_",
      "execution_count": 78,
      "outputs": [
        {
          "output_type": "stream",
          "name": "stdout",
          "text": [
            "DataFrame 1:\n",
            "  Key  Value1\n",
            "0   A      86\n",
            "1   B      16\n",
            "2   C      15\n",
            "3   D      80\n",
            "DataFrame 2:\n",
            "  Key  Value2\n",
            "0   A      48\n",
            "1   B      25\n",
            "2   C       3\n",
            "3   E      16\n",
            "Concatenated DataFrame (rows):\n",
            "  Key  Value1  Value2\n",
            "0   A    86.0     NaN\n",
            "1   B    16.0     NaN\n",
            "2   C    15.0     NaN\n",
            "3   D    80.0     NaN\n",
            "0   A     NaN    48.0\n",
            "1   B     NaN    25.0\n",
            "2   C     NaN     3.0\n",
            "3   E     NaN    16.0\n",
            "Concatenated DataFrame (columns):\n",
            "  Key  Value1 Key  Value2\n",
            "0   A      86   A      48\n",
            "1   B      16   B      25\n",
            "2   C      15   C       3\n",
            "3   D      80   E      16\n"
          ]
        }
      ]
    },
    {
      "cell_type": "markdown",
      "source": [
        "## Assignment 6: Time Series Analysis"
      ],
      "metadata": {
        "id": "VHmMbMAIjsCt"
      },
      "id": "VHmMbMAIjsCt"
    },
    {
      "cell_type": "markdown",
      "source": [
        "### Create a Pandas DataFrame with a datetime index and one column filled with random integers. Resample the DataFrame to compute the monthly mean of the values."
      ],
      "metadata": {
        "id": "gv-TKTWqj4Gr"
      },
      "id": "gv-TKTWqj4Gr"
    },
    {
      "cell_type": "code",
      "source": [
        "# Create a Pandas DataFrame with a datetime index and one column filled with random integers\n",
        "date_rng = pd.date_range(start='2022-01-01', end='2022-12-31', freq='D')\n",
        "df = pd.DataFrame(date_rng, columns=['date'])\n",
        "df['data'] = np.random.randint(0, 100, size=(len(date_rng)))\n",
        "df.set_index('date', inplace=True)\n",
        "print(\"Original DataFrame:\")\n",
        "print(df)\n",
        "monthly_mean = df.resample('ME').mean()\n",
        "print(\"Monthly Mean DataFrame:\")\n",
        "print(monthly_mean)"
      ],
      "metadata": {
        "colab": {
          "base_uri": "https://localhost:8080/"
        },
        "id": "oEVWQCHxja7B",
        "outputId": "f1f7e273-dbf9-412b-cd63-f5051e2b3b75"
      },
      "id": "oEVWQCHxja7B",
      "execution_count": 32,
      "outputs": [
        {
          "output_type": "stream",
          "name": "stdout",
          "text": [
            "Original DataFrame:\n",
            "            data\n",
            "date            \n",
            "2022-01-01    53\n",
            "2022-01-02    51\n",
            "2022-01-03    54\n",
            "2022-01-04    53\n",
            "2022-01-05    31\n",
            "...          ...\n",
            "2022-12-27    71\n",
            "2022-12-28    61\n",
            "2022-12-29    77\n",
            "2022-12-30    16\n",
            "2022-12-31    96\n",
            "\n",
            "[365 rows x 1 columns]\n",
            "Monthly Mean DataFrame:\n",
            "                 data\n",
            "date                 \n",
            "2022-01-31  56.322581\n",
            "2022-02-28  47.071429\n",
            "2022-03-31  44.741935\n",
            "2022-04-30  44.533333\n",
            "2022-05-31  45.838710\n",
            "2022-06-30  51.300000\n",
            "2022-07-31  46.645161\n",
            "2022-08-31  45.677419\n",
            "2022-09-30  50.566667\n",
            "2022-10-31  53.838710\n",
            "2022-11-30  55.400000\n",
            "2022-12-31  58.806452\n"
          ]
        }
      ]
    },
    {
      "cell_type": "markdown",
      "source": [
        "### Create a Pandas DataFrame with a datetime index ranging from '2021-01-01' to '2021-12-31' and one column filled with random integers. Compute the rolling mean with a window of 7 days."
      ],
      "metadata": {
        "id": "j6VjYqITJQrE"
      },
      "id": "j6VjYqITJQrE"
    },
    {
      "cell_type": "code",
      "source": [
        "date_range = pd.date_range(start='2021-01-01',end='2021-12-31',freq='D')\n",
        "vals = np.random.randint(1,1000,size=len(date_range))\n",
        "df = pd.DataFrame(data=vals,index=date_range,columns=['Value'])\n",
        "print(\"First 5 rows of\\nOriginal DataFrame:\")\n",
        "print(df.head())\n",
        "rolling_mean = df.rolling(window=7).mean()\n",
        "print(\"\\nFirst 5 rows of\\nRolling Mean DataFrame:\")\n",
        "print(rolling_mean)"
      ],
      "metadata": {
        "colab": {
          "base_uri": "https://localhost:8080/"
        },
        "id": "mV4Wj7FHkHEN",
        "outputId": "c8325e63-3b6c-46b6-ba3b-be2357b46d1d"
      },
      "id": "mV4Wj7FHkHEN",
      "execution_count": 47,
      "outputs": [
        {
          "output_type": "stream",
          "name": "stdout",
          "text": [
            "First 5 rows of\n",
            "Original DataFrame:\n",
            "            Value\n",
            "2021-01-01    377\n",
            "2021-01-02    660\n",
            "2021-01-03    493\n",
            "2021-01-04    597\n",
            "2021-01-05    460\n",
            "\n",
            "First 5 rows of\n",
            "Rolling Mean DataFrame:\n",
            "                 Value\n",
            "2021-01-01         NaN\n",
            "2021-01-02         NaN\n",
            "2021-01-03         NaN\n",
            "2021-01-04         NaN\n",
            "2021-01-05         NaN\n",
            "...                ...\n",
            "2021-12-27  497.285714\n",
            "2021-12-28  584.571429\n",
            "2021-12-29  574.285714\n",
            "2021-12-30  614.285714\n",
            "2021-12-31  593.428571\n",
            "\n",
            "[365 rows x 1 columns]\n"
          ]
        }
      ]
    },
    {
      "cell_type": "markdown",
      "source": [
        "## Assignment 7: MultiIndex DataFrame"
      ],
      "metadata": {
        "id": "JJrMn6lrK13P"
      },
      "id": "JJrMn6lrK13P"
    },
    {
      "cell_type": "markdown",
      "source": [
        "### Create a Pandas DataFrame with a MultiIndex (hierarchical index). Perform some basic indexing and slicing operations on the MultiIndex DataFrame."
      ],
      "metadata": {
        "id": "NU4VLvzbK5r-"
      },
      "id": "NU4VLvzbK5r-"
    },
    {
      "cell_type": "code",
      "source": [
        "# Create a Pandas DataFrame with a MultiIndex (hierarchical index)\n",
        "arrays = [['A', 'A', 'B', 'B'], ['one', 'two', 'one', 'two']]\n",
        "index = pd.MultiIndex.from_arrays(arrays, names=('Category', 'SubCategory'))\n",
        "df = pd.DataFrame(np.random.randint(1, 100, size=(4, 3)), index=index, columns=['Value1', 'Value2', 'Value3'])\n",
        "print(\"MultiIndex DataFrame:\")\n",
        "print(df)\n",
        "\n",
        "# Basic indexing and slicing operations\n",
        "print(\"Indexing at Category 'A':\")\n",
        "print(df.loc['A'])\n",
        "\n",
        "print(\"Slicing at Category 'B' and SubCategory 'two':\")\n",
        "print(df.loc[('B', 'two')])"
      ],
      "metadata": {
        "colab": {
          "base_uri": "https://localhost:8080/"
        },
        "id": "SckhcxGLJhcO",
        "outputId": "c373b545-d7b0-4284-9b3c-8aa6ea99c1e2"
      },
      "id": "SckhcxGLJhcO",
      "execution_count": 48,
      "outputs": [
        {
          "output_type": "stream",
          "name": "stdout",
          "text": [
            "MultiIndex DataFrame:\n",
            "                      Value1  Value2  Value3\n",
            "Category SubCategory                        \n",
            "A        one              55      46      95\n",
            "         two              41      77      77\n",
            "B        one              95      42      16\n",
            "         two              72      51      23\n",
            "Indexing at Category 'A':\n",
            "             Value1  Value2  Value3\n",
            "SubCategory                        \n",
            "one              55      46      95\n",
            "two              41      77      77\n",
            "Slicing at Category 'B' and SubCategory 'two':\n",
            "Value1    72\n",
            "Value2    51\n",
            "Value3    23\n",
            "Name: (B, two), dtype: int64\n"
          ]
        }
      ]
    }
  ],
  "metadata": {
    "kernelspec": {
      "display_name": "Python 3",
      "language": "python",
      "name": "python3"
    },
    "language_info": {
      "codemirror_mode": {
        "name": "ipython",
        "version": 3
      },
      "file_extension": ".py",
      "mimetype": "text/x-python",
      "name": "python",
      "nbconvert_exporter": "python",
      "pygments_lexer": "ipython3",
      "version": "3.9.7"
    },
    "colab": {
      "provenance": [],
      "collapsed_sections": [
        "zWDRLhBOTrcm",
        "Xqb_jUp5Zw1Y",
        "k-YaoIyQbZqz",
        "EtutpVc9dYhB",
        "WyD4y8TMhuXr",
        "zik-JXA5hyD_",
        "hG3XnzBd-qEs",
        "w5vm7GybAG_D",
        "z8-bww6sAmN-",
        "TfuNmVGjBBjk",
        "mDsqqeF7BQYc"
      ]
    }
  },
  "nbformat": 4,
  "nbformat_minor": 5
}